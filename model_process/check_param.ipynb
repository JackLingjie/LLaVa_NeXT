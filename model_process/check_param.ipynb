{
 "cells": [
  {
   "cell_type": "code",
   "execution_count": 1,
   "metadata": {},
   "outputs": [
    {
     "name": "stderr",
     "output_type": "stream",
     "text": [
      "/home/v-lingjiang/miniconda3/envs/llama/lib/python3.10/site-packages/tqdm/auto.py:21: TqdmWarning: IProgress not found. Please update jupyter and ipywidgets. See https://ipywidgets.readthedocs.io/en/stable/user_install.html\n",
      "  from .autonotebook import tqdm as notebook_tqdm\n",
      "`Qwen2VLRotaryEmbedding` can now be fully parameterized by passing the model config through the `config` argument. All other arguments will be removed in v4.46\n",
      "Loading checkpoint shards: 100%|██████████| 4/4 [00:32<00:00,  8.20s/it]\n",
      "Loading checkpoint shards: 100%|██████████| 4/4 [00:30<00:00,  7.71s/it]\n"
     ]
    },
    {
     "name": "stdout",
     "output_type": "stream",
     "text": [
      "[('visual.merger.ln_q.weight', 'Different weights'), ('visual.merger.ln_q.bias', 'Different weights'), ('visual.merger.mlp.0.weight', 'Different weights'), ('visual.merger.mlp.0.bias', 'Different weights'), ('visual.merger.mlp.2.weight', 'Different weights'), ('visual.merger.mlp.2.bias', 'Different weights')]\n"
     ]
    }
   ],
   "source": [
    "from transformers import Qwen2VLForConditionalGeneration, AutoTokenizer, AutoProcessor\n",
    "from qwen_vl_utils import process_vision_info\n",
    "# multimodal_code/exp/saves/qwen2_vl_coder_mn_only-7b_3072_bsz64_test_job/fullft/bsz128_epoch1/\n",
    "qwen2vl_merged_model_path = \"/mnt/lingjiejiang/multimodal_code/exp/saves/qwen2_vl_coder_mn_only-7b_3072_bsz64_test_job/fullft/bsz128_epoch1\"\n",
    "# default: Load the model on the available device(s)\n",
    "sft_model = Qwen2VLForConditionalGeneration.from_pretrained(\n",
    "    qwen2vl_merged_model_path, torch_dtype=\"auto\", device_map=\"auto\"\n",
    ")\n",
    "\n",
    "from transformers import Qwen2VLForConditionalGeneration, AutoTokenizer, AutoProcessor\n",
    "from qwen_vl_utils import process_vision_info\n",
    "\n",
    "qwen2vl_merged_model_path = \"/mnt/lingjiejiang/multimodal_code/checkpoints/vlms/Qwenvl2-coder2.5-7B-Instruct_merge\"\n",
    "# default: Load the model on the available device(s)\n",
    "model_merged = Qwen2VLForConditionalGeneration.from_pretrained(\n",
    "    qwen2vl_merged_model_path, torch_dtype=\"auto\", device_map=\"auto\"\n",
    ")\n",
    "import torch  \n",
    "sft_model_params = sft_model.state_dict()  \n",
    "model_merged_params = model_merged.state_dict()  \n",
    "def compare_models_params(model1_params, model2_params):  \n",
    "    different_params = []  \n",
    "    for key in model1_params.keys():  \n",
    "        if key not in model2_params:  \n",
    "            different_params.append((key, \"Missing in model2\"))  \n",
    "        elif not torch.equal(model1_params[key], model2_params[key]):  \n",
    "            different_params.append((key, \"Different weights\"))  \n",
    "      \n",
    "    for key in model2_params.keys():  \n",
    "        if key not in model1_params:  \n",
    "            different_params.append((key, \"Missing in model1\"))  \n",
    "\n",
    "    return different_params  \n",
    "\n",
    "differences = compare_models_params(sft_model_params, model_merged_params)  \n",
    "\n",
    "print(differences)"
   ]
  },
  {
   "cell_type": "code",
   "execution_count": 2,
   "metadata": {},
   "outputs": [
    {
     "data": {
      "text/plain": [
       "[('visual.merger.ln_q.weight', 'Different weights'),\n",
       " ('visual.merger.ln_q.bias', 'Different weights'),\n",
       " ('visual.merger.mlp.0.weight', 'Different weights'),\n",
       " ('visual.merger.mlp.0.bias', 'Different weights'),\n",
       " ('visual.merger.mlp.2.weight', 'Different weights'),\n",
       " ('visual.merger.mlp.2.bias', 'Different weights')]"
      ]
     },
     "execution_count": 2,
     "metadata": {},
     "output_type": "execute_result"
    }
   ],
   "source": [
    "differences"
   ]
  }
 ],
 "metadata": {
  "kernelspec": {
   "display_name": "llama",
   "language": "python",
   "name": "python3"
  },
  "language_info": {
   "codemirror_mode": {
    "name": "ipython",
    "version": 3
   },
   "file_extension": ".py",
   "mimetype": "text/x-python",
   "name": "python",
   "nbconvert_exporter": "python",
   "pygments_lexer": "ipython3",
   "version": "3.10.16"
  }
 },
 "nbformat": 4,
 "nbformat_minor": 2
}
