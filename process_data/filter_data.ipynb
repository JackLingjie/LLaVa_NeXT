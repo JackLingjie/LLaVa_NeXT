{
 "cells": [
  {
   "cell_type": "code",
   "execution_count": null,
   "metadata": {},
   "outputs": [],
   "source": [
    "import re\n",
    "import json\n",
    "\n",
    "# 1) 定义若干“可能匹配到代码”的正则规则\n",
    "#    可根据需要添加/删除/修改\n",
    "code_block_pattern = re.compile(r'```[\\s\\S]*?```')\n",
    "python_keyword_line_pattern = re.compile(\n",
    "    r'(?:^|\\n)\\s*(?:from\\s+\\S+\\s+import\\s+\\S+|import\\s+\\S+|def\\s+\\S+\\s*\\(.*\\)\\s*:|class\\s+\\S+\\s*\\(?.*\\)?:|if\\s+.*?:|elif\\s+.*?:|else\\s*:|for\\s+.*?:|while\\s+.*?:|try\\s*:|except\\s+.*?:)',\n",
    "    flags=re.MULTILINE\n",
    ")\n",
    "assignment_pattern = re.compile(r'(?:^|\\n)\\s*\\w+\\s*=\\s*[^=]+')\n",
    "colon_pattern = re.compile(r'(?:^|\\n)\\s*(?:if|elif|else|for|while|try|except|def|class)\\b[^:\\n]*:')\n",
    "\n",
    "# 将所有正则放在一个列表里，只要命中任意一个就视为含“代码”\n",
    "patterns = [\n",
    "    code_block_pattern,\n",
    "    python_keyword_line_pattern,\n",
    "    assignment_pattern,\n",
    "    colon_pattern\n",
    "]\n",
    "\n",
    "# 2) 读取原始 JSON 文件\n",
    "input_path = \"/mnt/lingjiejiang/multimodal_code/data/llava_onevision/LLaVA-ReCap-558K/blip558k_stage1.5_finetune_w_prompt_abspath.json\"\n",
    "with open(input_path, \"r\", encoding=\"utf-8\") as f:\n",
    "    data = json.load(f)\n",
    "\n",
    "# 3) 遍历 data，检测是否有“代码”\n",
    "items_containing_code = []\n",
    "\n",
    "for item in data:\n",
    "    # 若没有 conversations 字段，则跳过\n",
    "    if 'conversations' not in item:\n",
    "        continue\n",
    "    \n",
    "    code_found = False  # 用于标记当前 item 是否检测到代码\n",
    "    for conv in item['conversations']:\n",
    "        text = conv.get('value', '')\n",
    "        # 逐条正则检测，只要命中任意一个即可判定含代码\n",
    "        for pattern in patterns:\n",
    "            results = pattern.findall(text)\n",
    "            if results:\n",
    "                code_found = True\n",
    "                break  # 这里 break 跳出正则循环\n",
    "        if code_found:\n",
    "            break  # 这里 break 跳出对话循环\n",
    "    \n",
    "    # 如果检测到代码，则将整条 item 收集起来\n",
    "    if code_found:\n",
    "        items_containing_code.append(item)\n",
    "\n",
    "# # 4) 将包含代码的整条 item 写入新文件\n",
    "# output_path = \"items_with_code.json\"\n",
    "# with open(output_path, \"w\", encoding=\"utf-8\") as f:\n",
    "#     json.dump(items_containing_code, f, ensure_ascii=False, indent=2)\n",
    "\n",
    "# print(f\"匹配到含“代码”的 item 数量: {len(items_containing_code)}\")\n",
    "# print(f\"结果已写入: {output_path}\")\n"
   ]
  },
  {
   "cell_type": "code",
   "execution_count": 1,
   "metadata": {},
   "outputs": [],
   "source": [
    "import os\n",
    "base_path = \"/mnt/lingjiejiang/multimodal_code/data/llava_onevision/LLaVA-OneVision-Mid-Data\"  \n",
    "directories = [d for d in os.listdir(base_path) if os.path.isdir(os.path.join(base_path, d))]  "
   ]
  },
  {
   "cell_type": "code",
   "execution_count": 3,
   "metadata": {},
   "outputs": [
    {
     "data": {
      "text/plain": [
       "['/mnt/lingjiejiang/multimodal_code/data/llava_onevision/LLaVA-OneVision-Mid-Data/.git/.git.json',\n",
       " '/mnt/lingjiejiang/multimodal_code/data/llava_onevision/LLaVA-OneVision-Mid-Data/evol_instruct/evol_instruct.json',\n",
       " '/mnt/lingjiejiang/multimodal_code/data/llava_onevision/LLaVA-OneVision-Mid-Data/synthdog_en/synthdog_en.json',\n",
       " '/mnt/lingjiejiang/multimodal_code/data/llava_onevision/LLaVA-OneVision-Mid-Data/synthdog_zh/synthdog_zh.json',\n",
       " '/mnt/lingjiejiang/multimodal_code/data/llava_onevision/LLaVA-OneVision-Mid-Data/ureader_tr/ureader_tr.json']"
      ]
     },
     "execution_count": 3,
     "metadata": {},
     "output_type": "execute_result"
    }
   ],
   "source": [
    "json_file_paths = []\n",
    "for directory in directories:  \n",
    "    json_file_path = os.path.join(base_path, directory, f\"{directory}.json\")  \n",
    "    json_file_paths.append(json_file_path)\n",
    "json_file_paths"
   ]
  },
  {
   "cell_type": "code",
   "execution_count": 4,
   "metadata": {},
   "outputs": [
    {
     "data": {
      "text/plain": [
       "['/mnt/lingjiejiang/multimodal_code/data/llava_onevision/LLaVA-NeXT-Data/LLaVA-NeXT-Data.json',\n",
       " '/mnt/lingjiejiang/multimodal_code/data/llava_onevision/LLaVA-OneVision-Data/LLaVA-OneVision-Data.json',\n",
       " '/mnt/lingjiejiang/multimodal_code/data/llava_onevision/LLaVA-OneVision-Mid-Data/LLaVA-OneVision-Mid-Data.json',\n",
       " '/mnt/lingjiejiang/multimodal_code/data/llava_onevision/LLaVA-Pretrain/LLaVA-Pretrain.json',\n",
       " '/mnt/lingjiejiang/multimodal_code/data/llava_onevision/LLaVA-ReCap-118K/LLaVA-ReCap-118K.json',\n",
       " '/mnt/lingjiejiang/multimodal_code/data/llava_onevision/LLaVA-ReCap-558K/LLaVA-ReCap-558K.json',\n",
       " '/mnt/lingjiejiang/multimodal_code/data/llava_onevision/LLaVA-ReCap-CC3M/LLaVA-ReCap-CC3M.json',\n",
       " '/mnt/lingjiejiang/multimodal_code/data/llava_onevision/LLaVA-Stage2-Si/LLaVA-Stage2-Si.json']"
      ]
     },
     "execution_count": 4,
     "metadata": {},
     "output_type": "execute_result"
    }
   ],
   "source": [
    "base_path = \"/mnt/lingjiejiang/multimodal_code/data/llava_onevision/\"  \n",
    "directories = [d for d in os.listdir(base_path) if os.path.isdir(os.path.join(base_path, d))]  \n",
    "json_file_paths = []\n",
    "for directory in directories:  \n",
    "    json_file_path = os.path.join(base_path, directory, f\"{directory}.json\")  \n",
    "    json_file_paths.append(json_file_path)\n",
    "json_file_paths"
   ]
  },
  {
   "cell_type": "code",
   "execution_count": 2,
   "metadata": {},
   "outputs": [
    {
     "name": "stdout",
     "output_type": "stream",
     "text": [
      "提取到的 JSON 路径:\n",
      "/mnt/lingjiejiang/multimodal_code/data/llava_onevision/LLaVA-ReCap-558K/blip558k_stage1.5_finetune_w_prompt_abspath.json\n",
      "/mnt/lingjiejiang/multimodal_code/data/llava_onevision/LLaVA-ReCap-118K/coco118k_stage1.5_finetune_w_prompt_abspath.json\n",
      "/mnt/lingjiejiang/multimodal_code/data/llava_onevision/LLaVA-ReCap-CC3M/cc3m_recap_data_prompt_v2_abspath.json\n",
      "/mnt/lingjiejiang/multimodal_code/data/llava_onevision/LLaVA-OneVision-Mid-Data/ureader_tr/ureader_tr_processed_abspath.json\n",
      "/mnt/lingjiejiang/multimodal_code/data/llava_onevision/LLaVA-OneVision-Mid-Data/evol_instruct/evol_instruct_processed.json\n",
      "/mnt/lingjiejiang/multimodal_code/data/llava_onevision/LLaVA-OneVision-Mid-Data/synthdog_zh/synthdog_zh_processed_abs.json\n",
      "/mnt/lingjiejiang/multimodal_code/data/llava_onevision/LLaVA-OneVision-Mid-Data/synthdog_en/synthdog_en_processed_abspath.json\n"
     ]
    }
   ],
   "source": [
    "import yaml  \n",
    "  \n",
    "# 定义 YAML 文件的路径  \n",
    "yaml_file_path = \"/home/v-lingjiang/project/LLaVa_NeXT/scripts/train/mid_stage_mypath.yaml\"  \n",
    "  \n",
    "# 读取 YAML 文件  \n",
    "try:  \n",
    "    with open(yaml_file_path, \"r\", encoding=\"utf-8\") as file:  \n",
    "        yaml_data = yaml.safe_load(file)  \n",
    "except Exception as e:  \n",
    "    print(f\"读取 YAML 文件时出错: {e}\")  \n",
    "    exit(1)  \n",
    "  \n",
    "# 提取 json_path 信息  \n",
    "json_paths = []  \n",
    "datasets = yaml_data.get('datasets', [])  \n",
    "for dataset in datasets:  \n",
    "    json_path = dataset.get('json_path')  \n",
    "    if json_path:  \n",
    "        json_paths.append(json_path)  \n",
    "  \n",
    "# 输出所有 json_path  \n",
    "print(\"提取到的 JSON 路径:\")  \n",
    "for path in json_paths:  \n",
    "    print(path)  "
   ]
  },
  {
   "cell_type": "code",
   "execution_count": 1,
   "metadata": {},
   "outputs": [
    {
     "data": {
      "text/plain": [
       "[{'id': '000000010',\n",
       "  'image': '/mnt/lingjiejiang/multimodal_code/data/llava_onevision/LLaVA-ReCap-558K/blip558k_images/000000010.jpg',\n",
       "  'conversations': [{'from': 'human',\n",
       "    'value': '<image>\\nPlease generate detailed descriptions of the given image.'},\n",
       "   {'from': 'gpt',\n",
       "    'value': 'The image shows a scene of a significant vehicle accident. A white car is severely damaged, with its body crumpled and parts of the vehicle scattered around. The car appears to have been involved in a high-speed impact, as suggested by the extensive damage and the disarray of the surrounding area.\\n\\nIn the foreground, there is a person wearing a high-visibility vest, which is typically worn by emergency personnel or workers to ensure they are easily seen in such situations. This individual is standing near the wreckage, possibly assessing the situation or preparing to provide assistance.\\n\\nThe setting appears to be an outdoor area with grass, and there are various items scattered around, including what looks like a suitcase and other debris, indicating that the accident may have occurred in a public space or near a parking area.\\n\\nIn the background, there is a sign with the word \"Reliant\" on it, which could be part of a larger sign or structure, possibly indicating the name of a nearby establishment or facility. The sign is partially obscured by the debris from the accident.\\n\\nThe overall scene suggests a serious incident that has likely attracted the attention of emergency services and possibly led to disruption in the area. The image captures the immediate aftermath of the accident, with no visible people other than the individual in the high-visibility vest.'}],\n",
       "  'data_source': 'llava-recap-558K'},\n",
       " {'id': '000000012',\n",
       "  'image': '/mnt/lingjiejiang/multimodal_code/data/llava_onevision/LLaVA-ReCap-558K/blip558k_images/000000012.jpg',\n",
       "  'conversations': [{'from': 'human',\n",
       "    'value': '<image>\\nPlease generate detailed descriptions of the given image.'},\n",
       "   {'from': 'gpt',\n",
       "    'value': 'The image shows a light blue baby onesie laid out flat against a white background. The onesie has short sleeves and a snap button closure at the front, which is typical for baby clothing to allow for easy dressing and undressing. On the front of the onesie, there is a text design in a bold, sans-serif font. The text reads \"Antoni& Bobby& Jonathan& Karamo& Tan.\" The text is arranged in a horizontal line, with each name separated by an ampersand. The style of the image is a straightforward product display, intended to showcase the design and color of the onesie.'}],\n",
       "  'data_source': 'llava-recap-558K'}]"
      ]
     },
     "execution_count": 1,
     "metadata": {},
     "output_type": "execute_result"
    }
   ],
   "source": [
    "import json\n",
    "with open(\"/mnt/lingjiejiang/multimodal_code/data/llava_onevision/LLaVA-ReCap-558K/blip558k_stage1.5_finetune_w_prompt_abspath.json\", \"r\") as f:\n",
    "    data = json.load(f)\n",
    "data[:2]"
   ]
  },
  {
   "cell_type": "code",
   "execution_count": null,
   "metadata": {},
   "outputs": [],
   "source": [
    "import json  \n",
    "  \n",
    "# 读取原始数据  \n",
    "with open(\"/mnt/lingjiejiang/multimodal_code/data/llava_onevision/LLaVA-Pretrain/blip_laion_cc_sbu_558k.json\", 'r') as f:  \n",
    "    data = json.load(f)  \n",
    "  \n",
    "# 定义转换函数  \n",
    "def convert_conversations_to_messages(data):  \n",
    "    for item in data:  \n",
    "        messages = []  \n",
    "        for conversation in item['conversations']:  \n",
    "            role = 'user' if conversation['from'] == 'human' else 'assistant'  \n",
    "            # 确保 <image> 在消息的开头  \n",
    "            content = conversation['value']  \n",
    "            if '<image>' in content:  \n",
    "                content = '<image>' + content.replace('<image>', '').strip()  \n",
    "            messages.append({  \n",
    "                \"content\": content,  \n",
    "                \"role\": role  \n",
    "            })  \n",
    "        # 用新格式替换旧的 conversations  \n",
    "        item['messages'] = messages  \n",
    "        item['images'] = [f\"/mnt/lingjiejiang/multimodal_code/data/llava_onevision/LLaVA-Pretrain/{item.pop('image')}\"]  \n",
    "        del item['conversations']  \n",
    "    return data  \n",
    "  \n",
    "# 执行转换  \n",
    "new_data = convert_conversations_to_messages(data)  \n",
    "  \n",
    "# 打印转换后的前两个数据以验证结果  \n",
    "print(json.dumps(new_data[:2], indent=2))  "
   ]
  },
  {
   "cell_type": "code",
   "execution_count": 3,
   "metadata": {},
   "outputs": [
    {
     "name": "stderr",
     "output_type": "stream",
     "text": [
      "  0%|          | 0/7 [00:00<?, ?it/s]"
     ]
    },
    {
     "name": "stderr",
     "output_type": "stream",
     "text": [
      "100%|██████████| 7/7 [03:52<00:00, 33.26s/it]\n"
     ]
    }
   ],
   "source": [
    "import os  \n",
    "import re  \n",
    "import json  \n",
    "from tqdm import tqdm\n",
    "\n",
    "# 定义正则表达式模式  \n",
    "code_block_pattern = re.compile(r'```[\\s\\S]*?```')  \n",
    "python_keyword_line_pattern = re.compile(  \n",
    "    r'(?:^|\\n)\\s*(?:from\\s+\\S+\\s+import\\s+\\S+|import\\s+\\S+|def\\s+\\S+\\s*\\(.*\\)\\s*:|class\\s+\\S+\\s*\\(?.*\\)?:|if\\s+.*?:|elif\\s+.*?:|else\\s*:|for\\s+.*?:|while\\s+.*?:|try\\s*:|except\\s+.*?:)',  \n",
    "    flags=re.MULTILINE  \n",
    ")  \n",
    "assignment_pattern = re.compile(r'(?:^|\\n)\\s*\\w+\\s*=\\s*[^=]+')  \n",
    "colon_pattern = re.compile(r'(?:^|\\n)\\s*(?:if|elif|else|for|while|try|except|def|class)\\b[^:\\n]*:')  \n",
    "  \n",
    "patterns = [  \n",
    "    code_block_pattern,  \n",
    "    python_keyword_line_pattern,  \n",
    "    assignment_pattern,  \n",
    "    colon_pattern  \n",
    "]  \n",
    "  \n",
    "# 根目录路径  \n",
    "base_path = \"/mnt/lingjiejiang/multimodal_code/data/llava_onevision/LLaVA-OneVision-Mid-Data\"  \n",
    "  \n",
    "# 获取根目录下所有子目录  \n",
    "directories = [d for d in os.listdir(base_path) if os.path.isdir(os.path.join(base_path, d))]  \n",
    "  \n",
    "# 用于存储所有包含代码的items  \n",
    "all_items_with_code = []  \n",
    "  \n",
    "# # 遍历每个子目录  \n",
    "# for directory in directories:  \n",
    "#     json_file_path = os.path.join(base_path, directory, f\"{directory}.json\")  \n",
    "\n",
    "for json_file_path in tqdm(json_paths):\n",
    "    if not os.path.exists(json_file_path):  \n",
    "        print(f\"JSON 文件不存在: {json_file_path}\")  \n",
    "        continue  \n",
    "  \n",
    "    try:  \n",
    "        # 读取 JSON 文件  \n",
    "        with open(json_file_path, \"r\", encoding=\"utf-8\") as f:  \n",
    "            data = json.load(f)  \n",
    "    except Exception as e:  \n",
    "        print(f\"读取文件时出错: {e}\")  \n",
    "        continue  \n",
    "  \n",
    "    # 检测当前 JSON 文件中的代码  \n",
    "    items_containing_code = []  \n",
    "    for item in data:  \n",
    "        if 'conversations' not in item:  \n",
    "            continue  \n",
    "  \n",
    "        code_found = False  \n",
    "        for conv in item['conversations']:  \n",
    "            text = conv.get('value', '')  \n",
    "            for pattern in patterns:  \n",
    "                if pattern.findall(text):  \n",
    "                    code_found = True  \n",
    "                    break  \n",
    "            if code_found:  \n",
    "                break  \n",
    "  \n",
    "        if code_found:  \n",
    "            items_containing_code.append(item)  \n",
    "      \n",
    "    # 将当前文件的结果添加到总结果中  \n",
    "    all_items_with_code.extend(items_containing_code)  \n",
    "  \n",
    "# 将所有包含代码的 items 写入一个新文件  \n",
    "# output_path = os.path.join(base_path, \"all_items_with_code.json\")  \n",
    "# try:  \n",
    "#     with open(output_path, \"w\", encoding=\"utf-8\") as f:  \n",
    "#         json.dump(all_items_with_code, f, ensure_ascii=False, indent=2)  \n",
    "#     print(f\"匹配到含“代码”的 item 总数量: {len(all_items_with_code)}\")  \n",
    "#     print(f\"结果已写入: {output_path}\")  \n",
    "# except Exception as e:  \n",
    "#     print(f\"写入文件时出错: {e}\")  "
   ]
  },
  {
   "cell_type": "code",
   "execution_count": 4,
   "metadata": {},
   "outputs": [
    {
     "data": {
      "text/plain": [
       "37088"
      ]
     },
     "execution_count": 4,
     "metadata": {},
     "output_type": "execute_result"
    }
   ],
   "source": [
    "len(all_items_with_code)"
   ]
  },
  {
   "cell_type": "code",
   "execution_count": 5,
   "metadata": {},
   "outputs": [
    {
     "data": {
      "text/plain": [
       "[{'id': '000004509',\n",
       "  'image': '/mnt/lingjiejiang/multimodal_code/data/llava_onevision/LLaVA-ReCap-558K/blip558k_images/000004509.jpg',\n",
       "  'conversations': [{'from': 'human',\n",
       "    'value': '<image>\\nPlease generate detailed descriptions of the given image.'},\n",
       "   {'from': 'gpt',\n",
       "    'value': 'The image displays a screenshot of a computer interface showing a SQL (Structured Query Language) command line example. The SQL command is written in a text box at the top of the image, which reads\\n\\n```sql\\nSELECT Last_Name, First_Name\\nFROM Addresses, First_Name\\n```\\n\\nBelow the SQL command, there is a table with two columns, \"Last_Name\" and \"First_Name\". The table contains a list of names, with each row showing a combination of a last name and a first name. The names are presented in a structured format, with the last name on the left and the first name on the right.\\n\\nThe table includes names such as \"Adams\", \"Aki\", \"Alleyson\", \"Angeles\", \"Aragon\", \"Armstrong\", \"Beckel\", \"Black\", \"Brennan\", and others. Each name is separated by a line, indicating a new entry in the table.\\n\\nThe background of the image is a light blue color, and there is a watermark or logo in the top left corner, which appears to be a stylized letter \\'S\\' in a darker shade of blue.\\n\\nThe image is a digital representation, likely used for educational or instructional purposes to demonstrate how to use SQL to select and display data from a database. The style of the image is informational and technical, with a focus on the SQL command and the resulting data output.'}],\n",
       "  'data_source': 'llava-recap-558K'},\n",
       " {'id': '000007231',\n",
       "  'image': '/mnt/lingjiejiang/multimodal_code/data/llava_onevision/LLaVA-ReCap-558K/blip558k_images/000007231.jpg',\n",
       "  'conversations': [{'from': 'human',\n",
       "    'value': '<image>\\nPlease generate detailed descriptions of the given image.'},\n",
       "   {'from': 'gpt',\n",
       "    'value': 'The image appears to be a slide from a presentation, focusing on the topic of working on the command line and specifically discussing the prompt. The slide has a light blue background with a title at the top that reads \"Working on the Command Line - the Prompt.\"\\n\\nOn the left side of the slide, there is a screenshot of a command line interface, which seems to be a Unix or Linux terminal. The terminal is displaying a prompt with the following text\\n\\n```\\neeadmac30~ kahokamps$\\n```\\n\\nThe text is color-coded, with the host name \"eeadmac30\" in blue, the tilde symbol \"~\" in green, the username \"kahokamps\" in red, and the dollar sign \"$\" in white.\\n\\nTo the right of the terminal screenshot, there is a diagram with arrows pointing from the host name to the username, and from the username to the dollar sign. The diagram labels the host name as \"host,\" the username as \"user,\" and the dollar sign as \"symbol.\"\\n\\nAt the bottom of the slide, there is a credit line that reads \"Trinity College Dublin, The University of Dublin.\"\\n\\nThe overall style of the image is educational and informative, designed to explain the components of a command line prompt.'}],\n",
       "  'data_source': 'llava-recap-558K'}]"
      ]
     },
     "execution_count": 5,
     "metadata": {},
     "output_type": "execute_result"
    }
   ],
   "source": [
    "all_items_with_code[:2]"
   ]
  },
  {
   "cell_type": "code",
   "execution_count": 6,
   "metadata": {},
   "outputs": [],
   "source": [
    "output_path = \"/mnt/lingjiejiang/multimodal_code/data/llava_code_data/llava_midstage_code.json\"\n",
    "with open(output_path, \"w\", encoding=\"utf-8\") as f:  \n",
    "    json.dump(all_items_with_code, f, ensure_ascii=False, indent=0) "
   ]
  },
  {
   "cell_type": "code",
   "execution_count": 1,
   "metadata": {},
   "outputs": [],
   "source": [
    "import json\n",
    "output_path = \"/mnt/lingjiejiang/multimodal_code/data/llava_code_data/llava_midstage_code.json\"\n",
    "with open(output_path, \"r\", encoding=\"utf-8\") as f:  \n",
    "    data = json.load(f)"
   ]
  },
  {
   "cell_type": "code",
   "execution_count": 5,
   "metadata": {},
   "outputs": [],
   "source": [
    "import json  \n",
    "  \n",
    "input_path = \"/mnt/lingjiejiang/multimodal_code/data/llava_code_data/llava_midstage_code.json\"  \n",
    "output_path = \"/mnt/lingjiejiang/multimodal_code/data/llava_code_data/llava_midstage_code_job.json\"\n",
    "\n",
    "with open(input_path, \"r\", encoding=\"utf-8\") as f:  \n",
    "    data = json.load(f)  \n",
    "  \n",
    "# Assuming data is a list of dictionaries  \n",
    "for item in data:  \n",
    "    if 'image' in item:  \n",
    "        # Convert 'image' to 'images' list  \n",
    "        item['images'] = [item.pop('image')]  \n",
    "  \n",
    "# If you want to save the modified data back to a file, uncomment the following lines:  \n",
    "with open(output_path, \"w\", encoding=\"utf-8\") as f:  \n",
    "    json.dump(data, f, ensure_ascii=False, indent=0)  \n",
    "  \n",
    "# Print the modified data to verify  \n",
    "# print(data)  "
   ]
  },
  {
   "cell_type": "code",
   "execution_count": 2,
   "metadata": {},
   "outputs": [
    {
     "data": {
      "text/plain": [
       "[{'id': '000004509',\n",
       "  'conversations': [{'from': 'human',\n",
       "    'value': '<image>\\nPlease generate detailed descriptions of the given image.'},\n",
       "   {'from': 'gpt',\n",
       "    'value': 'The image displays a screenshot of a computer interface showing a SQL (Structured Query Language) command line example. The SQL command is written in a text box at the top of the image, which reads\\n\\n```sql\\nSELECT Last_Name, First_Name\\nFROM Addresses, First_Name\\n```\\n\\nBelow the SQL command, there is a table with two columns, \"Last_Name\" and \"First_Name\". The table contains a list of names, with each row showing a combination of a last name and a first name. The names are presented in a structured format, with the last name on the left and the first name on the right.\\n\\nThe table includes names such as \"Adams\", \"Aki\", \"Alleyson\", \"Angeles\", \"Aragon\", \"Armstrong\", \"Beckel\", \"Black\", \"Brennan\", and others. Each name is separated by a line, indicating a new entry in the table.\\n\\nThe background of the image is a light blue color, and there is a watermark or logo in the top left corner, which appears to be a stylized letter \\'S\\' in a darker shade of blue.\\n\\nThe image is a digital representation, likely used for educational or instructional purposes to demonstrate how to use SQL to select and display data from a database. The style of the image is informational and technical, with a focus on the SQL command and the resulting data output.'}],\n",
       "  'data_source': 'llava-recap-558K',\n",
       "  'images': ['/mnt/lingjiejiang/multimodal_code/data/llava_onevision/LLaVA-ReCap-558K/blip558k_images/000004509.jpg']},\n",
       " {'id': '000007231',\n",
       "  'conversations': [{'from': 'human',\n",
       "    'value': '<image>\\nPlease generate detailed descriptions of the given image.'},\n",
       "   {'from': 'gpt',\n",
       "    'value': 'The image appears to be a slide from a presentation, focusing on the topic of working on the command line and specifically discussing the prompt. The slide has a light blue background with a title at the top that reads \"Working on the Command Line - the Prompt.\"\\n\\nOn the left side of the slide, there is a screenshot of a command line interface, which seems to be a Unix or Linux terminal. The terminal is displaying a prompt with the following text\\n\\n```\\neeadmac30~ kahokamps$\\n```\\n\\nThe text is color-coded, with the host name \"eeadmac30\" in blue, the tilde symbol \"~\" in green, the username \"kahokamps\" in red, and the dollar sign \"$\" in white.\\n\\nTo the right of the terminal screenshot, there is a diagram with arrows pointing from the host name to the username, and from the username to the dollar sign. The diagram labels the host name as \"host,\" the username as \"user,\" and the dollar sign as \"symbol.\"\\n\\nAt the bottom of the slide, there is a credit line that reads \"Trinity College Dublin, The University of Dublin.\"\\n\\nThe overall style of the image is educational and informative, designed to explain the components of a command line prompt.'}],\n",
       "  'data_source': 'llava-recap-558K',\n",
       "  'images': ['/mnt/lingjiejiang/multimodal_code/data/llava_onevision/LLaVA-ReCap-558K/blip558k_images/000007231.jpg']}]"
      ]
     },
     "execution_count": 2,
     "metadata": {},
     "output_type": "execute_result"
    }
   ],
   "source": [
    "import json  \n",
    "  \n",
    "input_path = \"/mnt/lingjiejiang/multimodal_code/data/llava_code_data/llava_midstage_code.json\"  \n",
    "output_path = \"/mnt/lingjiejiang/multimodal_code/data/llava_code_data/llava_midstage_code_job.json\"\n",
    "with open(output_path, \"r\", encoding=\"utf-8\") as f:  \n",
    "    data = json.load(f)  \n",
    "data[:2]"
   ]
  },
  {
   "cell_type": "code",
   "execution_count": 3,
   "metadata": {},
   "outputs": [],
   "source": [
    "for item in data:  \n",
    "    if 'conversations' in item:  \n",
    "        # Convert 'image' to 'images' list  \n",
    "        item['messages'] = [item.pop('conversations')]  "
   ]
  },
  {
   "cell_type": "code",
   "execution_count": 5,
   "metadata": {},
   "outputs": [],
   "source": [
    "with open(output_path, \"w\", encoding=\"utf-8\") as f:  \n",
    "    json.dump(data, f, ensure_ascii=False, indent=0)  "
   ]
  },
  {
   "cell_type": "code",
   "execution_count": 10,
   "metadata": {},
   "outputs": [],
   "source": [
    "import json  \n",
    "  \n",
    "# 输入和输出文件路径  \n",
    "input_path = \"/mnt/lingjiejiang/multimodal_code/data/llava_code_data/llava_midstage_code_job.json\"  \n",
    "output_path = \"/mnt/lingjiejiang/multimodal_code/data/llava_code_data/llava_midstage_code_job.json\"  \n",
    "  \n",
    "# 从输入文件中读取数据  \n",
    "with open(input_path, \"r\", encoding=\"utf-8\") as f:  \n",
    "    data = json.load(f)  \n",
    "  \n",
    "# 将 messages 转换为新格式的函数  \n",
    "def convert_messages_format(messages):  \n",
    "    new_format = []  \n",
    "    for message_pair in messages:  \n",
    "        for message in message_pair:  \n",
    "            new_format.append({  \n",
    "                \"content\": message['value'],  \n",
    "                \"role\": \"user\" if message['from'] == 'human' else \"assistant\"  \n",
    "            })  \n",
    "    return new_format  \n",
    "  \n",
    "# 遍历数据并转换 messages  \n",
    "for item in data:  \n",
    "    item['messages'] = convert_messages_format(item['messages'])  \n",
    "  \n",
    "# # 将转换后的数据保存到输出文件  \n",
    "with open(output_path, \"w\", encoding=\"utf-8\") as f:  \n",
    "    json.dump(data, f, ensure_ascii=False, indent=0)  \n",
    "  \n",
    "# print(f\"转换后的数据已保存到 {output_path}\")  "
   ]
  },
  {
   "cell_type": "code",
   "execution_count": 11,
   "metadata": {},
   "outputs": [
    {
     "data": {
      "text/plain": [
       "37088"
      ]
     },
     "execution_count": 11,
     "metadata": {},
     "output_type": "execute_result"
    }
   ],
   "source": [
    "len(data)"
   ]
  },
  {
   "cell_type": "code",
   "execution_count": 20,
   "metadata": {},
   "outputs": [],
   "source": [
    "filtered_data = []  \n",
    "for item in data:  \n",
    "    # 检查 images 字段是否为空或包含空字符串  \n",
    "    if 'images' not in item:  \n",
    "        item['images'] = [\"\"]  \n",
    "    # if 'images' in item and (not item['images'] or all(img == \"\" for img in item['images'])):  \n",
    "    #     continue  \n",
    "    # if \"images\" not in item:\n",
    "    #     continue\n",
    "    # 转换 messages 格式  \n",
    "    # item['messages'] = convert_messages_format(item['messages'])  \n",
    "    filtered_data.append(item)  \n",
    "  \n",
    "# # 将转换后的数据保存到输出文件  \n",
    "# with open(output_path, \"w\", encoding=\"utf-8\") as f:  \n",
    "#     json.dump(filtered_data, f, ensure_ascii=False, indent=2)  \n",
    "  \n",
    "# print(f\"转换后的数据已保存到 {output_path}\") "
   ]
  },
  {
   "cell_type": "code",
   "execution_count": 18,
   "metadata": {},
   "outputs": [
    {
     "data": {
      "text/plain": [
       "37088"
      ]
     },
     "execution_count": 18,
     "metadata": {},
     "output_type": "execute_result"
    }
   ],
   "source": [
    "len(filtered_data)"
   ]
  },
  {
   "cell_type": "code",
   "execution_count": 21,
   "metadata": {},
   "outputs": [],
   "source": [
    "output_path = \"/mnt/lingjiejiang/multimodal_code/data/llava_code_data/llava_midstage_code_debug_job.json\"  \n",
    "# # 将转换后的数据保存到输出文件  \n",
    "with open(output_path, \"w\", encoding=\"utf-8\") as f:  \n",
    "    json.dump(filtered_data, f, ensure_ascii=False, indent=0)    "
   ]
  }
 ],
 "metadata": {
  "kernelspec": {
   "display_name": "llama",
   "language": "python",
   "name": "python3"
  },
  "language_info": {
   "codemirror_mode": {
    "name": "ipython",
    "version": 3
   },
   "file_extension": ".py",
   "mimetype": "text/x-python",
   "name": "python",
   "nbconvert_exporter": "python",
   "pygments_lexer": "ipython3",
   "version": "3.10.16"
  }
 },
 "nbformat": 4,
 "nbformat_minor": 2
}
