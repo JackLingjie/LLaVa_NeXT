{
 "cells": [
  {
   "cell_type": "code",
   "execution_count": null,
   "metadata": {},
   "outputs": [],
   "source": [
    "import re\n",
    "import json\n",
    "\n",
    "# 1) 定义若干“可能匹配到代码”的正则规则\n",
    "#    可根据需要添加/删除/修改\n",
    "code_block_pattern = re.compile(r'```[\\s\\S]*?```')\n",
    "python_keyword_line_pattern = re.compile(\n",
    "    r'(?:^|\\n)\\s*(?:from\\s+\\S+\\s+import\\s+\\S+|import\\s+\\S+|def\\s+\\S+\\s*\\(.*\\)\\s*:|class\\s+\\S+\\s*\\(?.*\\)?:|if\\s+.*?:|elif\\s+.*?:|else\\s*:|for\\s+.*?:|while\\s+.*?:|try\\s*:|except\\s+.*?:)',\n",
    "    flags=re.MULTILINE\n",
    ")\n",
    "assignment_pattern = re.compile(r'(?:^|\\n)\\s*\\w+\\s*=\\s*[^=]+')\n",
    "colon_pattern = re.compile(r'(?:^|\\n)\\s*(?:if|elif|else|for|while|try|except|def|class)\\b[^:\\n]*:')\n",
    "\n",
    "# 将所有正则放在一个列表里，只要命中任意一个就视为含“代码”\n",
    "patterns = [\n",
    "    code_block_pattern,\n",
    "    python_keyword_line_pattern,\n",
    "    assignment_pattern,\n",
    "    colon_pattern\n",
    "]\n",
    "\n",
    "# 2) 读取原始 JSON 文件\n",
    "input_path = \"/mnt/lingjiejiang/multimodal_code/data/llava_onevision/LLaVA-ReCap-558K/blip558k_stage1.5_finetune_w_prompt_abspath.json\"\n",
    "with open(input_path, \"r\", encoding=\"utf-8\") as f:\n",
    "    data = json.load(f)\n",
    "\n",
    "# 3) 遍历 data，检测是否有“代码”\n",
    "items_containing_code = []\n",
    "\n",
    "for item in data:\n",
    "    # 若没有 conversations 字段，则跳过\n",
    "    if 'conversations' not in item:\n",
    "        continue\n",
    "    \n",
    "    code_found = False  # 用于标记当前 item 是否检测到代码\n",
    "    for conv in item['conversations']:\n",
    "        text = conv.get('value', '')\n",
    "        # 逐条正则检测，只要命中任意一个即可判定含代码\n",
    "        for pattern in patterns:\n",
    "            results = pattern.findall(text)\n",
    "            if results:\n",
    "                code_found = True\n",
    "                break  # 这里 break 跳出正则循环\n",
    "        if code_found:\n",
    "            break  # 这里 break 跳出对话循环\n",
    "    \n",
    "    # 如果检测到代码，则将整条 item 收集起来\n",
    "    if code_found:\n",
    "        items_containing_code.append(item)\n",
    "\n",
    "# # 4) 将包含代码的整条 item 写入新文件\n",
    "# output_path = \"items_with_code.json\"\n",
    "# with open(output_path, \"w\", encoding=\"utf-8\") as f:\n",
    "#     json.dump(items_containing_code, f, ensure_ascii=False, indent=2)\n",
    "\n",
    "# print(f\"匹配到含“代码”的 item 数量: {len(items_containing_code)}\")\n",
    "# print(f\"结果已写入: {output_path}\")\n"
   ]
  },
  {
   "cell_type": "code",
   "execution_count": 1,
   "metadata": {},
   "outputs": [],
   "source": [
    "import os\n",
    "base_path = \"/mnt/lingjiejiang/multimodal_code/data/llava_onevision/LLaVA-OneVision-Mid-Data\"  \n",
    "directories = [d for d in os.listdir(base_path) if os.path.isdir(os.path.join(base_path, d))]  "
   ]
  },
  {
   "cell_type": "code",
   "execution_count": 3,
   "metadata": {},
   "outputs": [
    {
     "data": {
      "text/plain": [
       "['/mnt/lingjiejiang/multimodal_code/data/llava_onevision/LLaVA-OneVision-Mid-Data/.git/.git.json',\n",
       " '/mnt/lingjiejiang/multimodal_code/data/llava_onevision/LLaVA-OneVision-Mid-Data/evol_instruct/evol_instruct.json',\n",
       " '/mnt/lingjiejiang/multimodal_code/data/llava_onevision/LLaVA-OneVision-Mid-Data/synthdog_en/synthdog_en.json',\n",
       " '/mnt/lingjiejiang/multimodal_code/data/llava_onevision/LLaVA-OneVision-Mid-Data/synthdog_zh/synthdog_zh.json',\n",
       " '/mnt/lingjiejiang/multimodal_code/data/llava_onevision/LLaVA-OneVision-Mid-Data/ureader_tr/ureader_tr.json']"
      ]
     },
     "execution_count": 3,
     "metadata": {},
     "output_type": "execute_result"
    }
   ],
   "source": [
    "json_file_paths = []\n",
    "for directory in directories:  \n",
    "    json_file_path = os.path.join(base_path, directory, f\"{directory}.json\")  \n",
    "    json_file_paths.append(json_file_path)\n",
    "json_file_paths"
   ]
  },
  {
   "cell_type": "code",
   "execution_count": 4,
   "metadata": {},
   "outputs": [
    {
     "data": {
      "text/plain": [
       "['/mnt/lingjiejiang/multimodal_code/data/llava_onevision/LLaVA-NeXT-Data/LLaVA-NeXT-Data.json',\n",
       " '/mnt/lingjiejiang/multimodal_code/data/llava_onevision/LLaVA-OneVision-Data/LLaVA-OneVision-Data.json',\n",
       " '/mnt/lingjiejiang/multimodal_code/data/llava_onevision/LLaVA-OneVision-Mid-Data/LLaVA-OneVision-Mid-Data.json',\n",
       " '/mnt/lingjiejiang/multimodal_code/data/llava_onevision/LLaVA-Pretrain/LLaVA-Pretrain.json',\n",
       " '/mnt/lingjiejiang/multimodal_code/data/llava_onevision/LLaVA-ReCap-118K/LLaVA-ReCap-118K.json',\n",
       " '/mnt/lingjiejiang/multimodal_code/data/llava_onevision/LLaVA-ReCap-558K/LLaVA-ReCap-558K.json',\n",
       " '/mnt/lingjiejiang/multimodal_code/data/llava_onevision/LLaVA-ReCap-CC3M/LLaVA-ReCap-CC3M.json',\n",
       " '/mnt/lingjiejiang/multimodal_code/data/llava_onevision/LLaVA-Stage2-Si/LLaVA-Stage2-Si.json']"
      ]
     },
     "execution_count": 4,
     "metadata": {},
     "output_type": "execute_result"
    }
   ],
   "source": [
    "base_path = \"/mnt/lingjiejiang/multimodal_code/data/llava_onevision/\"  \n",
    "directories = [d for d in os.listdir(base_path) if os.path.isdir(os.path.join(base_path, d))]  \n",
    "json_file_paths = []\n",
    "for directory in directories:  \n",
    "    json_file_path = os.path.join(base_path, directory, f\"{directory}.json\")  \n",
    "    json_file_paths.append(json_file_path)\n",
    "json_file_paths"
   ]
  },
  {
   "cell_type": "code",
   "execution_count": 2,
   "metadata": {},
   "outputs": [
    {
     "name": "stdout",
     "output_type": "stream",
     "text": [
      "提取到的 JSON 路径:\n",
      "/mnt/lingjiejiang/multimodal_code/data/llava_onevision/LLaVA-ReCap-558K/blip558k_stage1.5_finetune_w_prompt_abspath.json\n",
      "/mnt/lingjiejiang/multimodal_code/data/llava_onevision/LLaVA-ReCap-118K/coco118k_stage1.5_finetune_w_prompt_abspath.json\n",
      "/mnt/lingjiejiang/multimodal_code/data/llava_onevision/LLaVA-ReCap-CC3M/cc3m_recap_data_prompt_v2_abspath.json\n",
      "/mnt/lingjiejiang/multimodal_code/data/llava_onevision/LLaVA-OneVision-Mid-Data/ureader_tr/ureader_tr_processed_abspath.json\n",
      "/mnt/lingjiejiang/multimodal_code/data/llava_onevision/LLaVA-OneVision-Mid-Data/evol_instruct/evol_instruct_processed.json\n",
      "/mnt/lingjiejiang/multimodal_code/data/llava_onevision/LLaVA-OneVision-Mid-Data/synthdog_zh/synthdog_zh_processed_abs.json\n",
      "/mnt/lingjiejiang/multimodal_code/data/llava_onevision/LLaVA-OneVision-Mid-Data/synthdog_en/synthdog_en_processed_abspath.json\n"
     ]
    }
   ],
   "source": [
    "import yaml  \n",
    "  \n",
    "# 定义 YAML 文件的路径  \n",
    "yaml_file_path = \"/home/v-lingjiang/project/LLaVa_NeXT/scripts/train/mid_stage_mypath.yaml\"  \n",
    "  \n",
    "# 读取 YAML 文件  \n",
    "try:  \n",
    "    with open(yaml_file_path, \"r\", encoding=\"utf-8\") as file:  \n",
    "        yaml_data = yaml.safe_load(file)  \n",
    "except Exception as e:  \n",
    "    print(f\"读取 YAML 文件时出错: {e}\")  \n",
    "    exit(1)  \n",
    "  \n",
    "# 提取 json_path 信息  \n",
    "json_paths = []  \n",
    "datasets = yaml_data.get('datasets', [])  \n",
    "for dataset in datasets:  \n",
    "    json_path = dataset.get('json_path')  \n",
    "    if json_path:  \n",
    "        json_paths.append(json_path)  \n",
    "  \n",
    "# 输出所有 json_path  \n",
    "print(\"提取到的 JSON 路径:\")  \n",
    "for path in json_paths:  \n",
    "    print(path)  "
   ]
  },
  {
   "cell_type": "code",
   "execution_count": 1,
   "metadata": {},
   "outputs": [
    {
     "data": {
      "text/plain": [
       "[{'id': '000000010',\n",
       "  'image': '/mnt/lingjiejiang/multimodal_code/data/llava_onevision/LLaVA-ReCap-558K/blip558k_images/000000010.jpg',\n",
       "  'conversations': [{'from': 'human',\n",
       "    'value': '<image>\\nPlease generate detailed descriptions of the given image.'},\n",
       "   {'from': 'gpt',\n",
       "    'value': 'The image shows a scene of a significant vehicle accident. A white car is severely damaged, with its body crumpled and parts of the vehicle scattered around. The car appears to have been involved in a high-speed impact, as suggested by the extensive damage and the disarray of the surrounding area.\\n\\nIn the foreground, there is a person wearing a high-visibility vest, which is typically worn by emergency personnel or workers to ensure they are easily seen in such situations. This individual is standing near the wreckage, possibly assessing the situation or preparing to provide assistance.\\n\\nThe setting appears to be an outdoor area with grass, and there are various items scattered around, including what looks like a suitcase and other debris, indicating that the accident may have occurred in a public space or near a parking area.\\n\\nIn the background, there is a sign with the word \"Reliant\" on it, which could be part of a larger sign or structure, possibly indicating the name of a nearby establishment or facility. The sign is partially obscured by the debris from the accident.\\n\\nThe overall scene suggests a serious incident that has likely attracted the attention of emergency services and possibly led to disruption in the area. The image captures the immediate aftermath of the accident, with no visible people other than the individual in the high-visibility vest.'}],\n",
       "  'data_source': 'llava-recap-558K'},\n",
       " {'id': '000000012',\n",
       "  'image': '/mnt/lingjiejiang/multimodal_code/data/llava_onevision/LLaVA-ReCap-558K/blip558k_images/000000012.jpg',\n",
       "  'conversations': [{'from': 'human',\n",
       "    'value': '<image>\\nPlease generate detailed descriptions of the given image.'},\n",
       "   {'from': 'gpt',\n",
       "    'value': 'The image shows a light blue baby onesie laid out flat against a white background. The onesie has short sleeves and a snap button closure at the front, which is typical for baby clothing to allow for easy dressing and undressing. On the front of the onesie, there is a text design in a bold, sans-serif font. The text reads \"Antoni& Bobby& Jonathan& Karamo& Tan.\" The text is arranged in a horizontal line, with each name separated by an ampersand. The style of the image is a straightforward product display, intended to showcase the design and color of the onesie.'}],\n",
       "  'data_source': 'llava-recap-558K'}]"
      ]
     },
     "execution_count": 1,
     "metadata": {},
     "output_type": "execute_result"
    }
   ],
   "source": [
    "import json\n",
    "with open(\"/mnt/lingjiejiang/multimodal_code/data/llava_onevision/LLaVA-ReCap-558K/blip558k_stage1.5_finetune_w_prompt_abspath.json\", \"r\") as f:\n",
    "    data = json.load(f)\n",
    "data[:2]"
   ]
  },
  {
   "cell_type": "code",
   "execution_count": null,
   "metadata": {},
   "outputs": [],
   "source": [
    "import json  \n",
    "  \n",
    "# 读取原始数据  \n",
    "with open(\"/mnt/lingjiejiang/multimodal_code/data/llava_onevision/LLaVA-Pretrain/blip_laion_cc_sbu_558k.json\", 'r') as f:  \n",
    "    data = json.load(f)  \n",
    "  \n",
    "# 定义转换函数  \n",
    "def convert_conversations_to_messages(data):  \n",
    "    for item in data:  \n",
    "        messages = []  \n",
    "        for conversation in item['conversations']:  \n",
    "            role = 'user' if conversation['from'] == 'human' else 'assistant'  \n",
    "            # 确保 <image> 在消息的开头  \n",
    "            content = conversation['value']  \n",
    "            if '<image>' in content:  \n",
    "                content = '<image>' + content.replace('<image>', '').strip()  \n",
    "            messages.append({  \n",
    "                \"content\": content,  \n",
    "                \"role\": role  \n",
    "            })  \n",
    "        # 用新格式替换旧的 conversations  \n",
    "        item['messages'] = messages  \n",
    "        item['images'] = [f\"/mnt/lingjiejiang/multimodal_code/data/llava_onevision/LLaVA-Pretrain/{item.pop('image')}\"]  \n",
    "        del item['conversations']  \n",
    "    return data  \n",
    "  \n",
    "# 执行转换  \n",
    "new_data = convert_conversations_to_messages(data)  \n",
    "  \n",
    "# 打印转换后的前两个数据以验证结果  \n",
    "print(json.dumps(new_data[:2], indent=2))  "
   ]
  },
  {
   "cell_type": "code",
   "execution_count": 3,
   "metadata": {},
   "outputs": [
    {
     "name": "stderr",
     "output_type": "stream",
     "text": [
      "  0%|          | 0/7 [00:00<?, ?it/s]"
     ]
    },
    {
     "name": "stderr",
     "output_type": "stream",
     "text": [
      "100%|██████████| 7/7 [03:52<00:00, 33.26s/it]\n"
     ]
    }
   ],
   "source": [
    "import os  \n",
    "import re  \n",
    "import json  \n",
    "from tqdm import tqdm\n",
    "\n",
    "# 定义正则表达式模式  \n",
    "code_block_pattern = re.compile(r'```[\\s\\S]*?```')  \n",
    "python_keyword_line_pattern = re.compile(  \n",
    "    r'(?:^|\\n)\\s*(?:from\\s+\\S+\\s+import\\s+\\S+|import\\s+\\S+|def\\s+\\S+\\s*\\(.*\\)\\s*:|class\\s+\\S+\\s*\\(?.*\\)?:|if\\s+.*?:|elif\\s+.*?:|else\\s*:|for\\s+.*?:|while\\s+.*?:|try\\s*:|except\\s+.*?:)',  \n",
    "    flags=re.MULTILINE  \n",
    ")  \n",
    "assignment_pattern = re.compile(r'(?:^|\\n)\\s*\\w+\\s*=\\s*[^=]+')  \n",
    "colon_pattern = re.compile(r'(?:^|\\n)\\s*(?:if|elif|else|for|while|try|except|def|class)\\b[^:\\n]*:')  \n",
    "  \n",
    "patterns = [  \n",
    "    code_block_pattern,  \n",
    "    python_keyword_line_pattern,  \n",
    "    assignment_pattern,  \n",
    "    colon_pattern  \n",
    "]  \n",
    "  \n",
    "# 根目录路径  \n",
    "base_path = \"/mnt/lingjiejiang/multimodal_code/data/llava_onevision/LLaVA-OneVision-Mid-Data\"  \n",
    "  \n",
    "# 获取根目录下所有子目录  \n",
    "directories = [d for d in os.listdir(base_path) if os.path.isdir(os.path.join(base_path, d))]  \n",
    "  \n",
    "# 用于存储所有包含代码的items  \n",
    "all_items_with_code = []  \n",
    "  \n",
    "# # 遍历每个子目录  \n",
    "# for directory in directories:  \n",
    "#     json_file_path = os.path.join(base_path, directory, f\"{directory}.json\")  \n",
    "\n",
    "for json_file_path in tqdm(json_paths):\n",
    "    if not os.path.exists(json_file_path):  \n",
    "        print(f\"JSON 文件不存在: {json_file_path}\")  \n",
    "        continue  \n",
    "  \n",
    "    try:  \n",
    "        # 读取 JSON 文件  \n",
    "        with open(json_file_path, \"r\", encoding=\"utf-8\") as f:  \n",
    "            data = json.load(f)  \n",
    "    except Exception as e:  \n",
    "        print(f\"读取文件时出错: {e}\")  \n",
    "        continue  \n",
    "  \n",
    "    # 检测当前 JSON 文件中的代码  \n",
    "    items_containing_code = []  \n",
    "    for item in data:  \n",
    "        if 'conversations' not in item:  \n",
    "            continue  \n",
    "  \n",
    "        code_found = False  \n",
    "        for conv in item['conversations']:  \n",
    "            text = conv.get('value', '')  \n",
    "            for pattern in patterns:  \n",
    "                if pattern.findall(text):  \n",
    "                    code_found = True  \n",
    "                    break  \n",
    "            if code_found:  \n",
    "                break  \n",
    "  \n",
    "        if code_found:  \n",
    "            items_containing_code.append(item)  \n",
    "      \n",
    "    # 将当前文件的结果添加到总结果中  \n",
    "    all_items_with_code.extend(items_containing_code)  \n",
    "  \n",
    "# 将所有包含代码的 items 写入一个新文件  \n",
    "# output_path = os.path.join(base_path, \"all_items_with_code.json\")  \n",
    "# try:  \n",
    "#     with open(output_path, \"w\", encoding=\"utf-8\") as f:  \n",
    "#         json.dump(all_items_with_code, f, ensure_ascii=False, indent=2)  \n",
    "#     print(f\"匹配到含“代码”的 item 总数量: {len(all_items_with_code)}\")  \n",
    "#     print(f\"结果已写入: {output_path}\")  \n",
    "# except Exception as e:  \n",
    "#     print(f\"写入文件时出错: {e}\")  "
   ]
  },
  {
   "cell_type": "code",
   "execution_count": 4,
   "metadata": {},
   "outputs": [
    {
     "data": {
      "text/plain": [
       "37088"
      ]
     },
     "execution_count": 4,
     "metadata": {},
     "output_type": "execute_result"
    }
   ],
   "source": [
    "len(all_items_with_code)"
   ]
  },
  {
   "cell_type": "code",
   "execution_count": 5,
   "metadata": {},
   "outputs": [
    {
     "data": {
      "text/plain": [
       "[{'id': '000004509',\n",
       "  'image': '/mnt/lingjiejiang/multimodal_code/data/llava_onevision/LLaVA-ReCap-558K/blip558k_images/000004509.jpg',\n",
       "  'conversations': [{'from': 'human',\n",
       "    'value': '<image>\\nPlease generate detailed descriptions of the given image.'},\n",
       "   {'from': 'gpt',\n",
       "    'value': 'The image displays a screenshot of a computer interface showing a SQL (Structured Query Language) command line example. The SQL command is written in a text box at the top of the image, which reads\\n\\n```sql\\nSELECT Last_Name, First_Name\\nFROM Addresses, First_Name\\n```\\n\\nBelow the SQL command, there is a table with two columns, \"Last_Name\" and \"First_Name\". The table contains a list of names, with each row showing a combination of a last name and a first name. The names are presented in a structured format, with the last name on the left and the first name on the right.\\n\\nThe table includes names such as \"Adams\", \"Aki\", \"Alleyson\", \"Angeles\", \"Aragon\", \"Armstrong\", \"Beckel\", \"Black\", \"Brennan\", and others. Each name is separated by a line, indicating a new entry in the table.\\n\\nThe background of the image is a light blue color, and there is a watermark or logo in the top left corner, which appears to be a stylized letter \\'S\\' in a darker shade of blue.\\n\\nThe image is a digital representation, likely used for educational or instructional purposes to demonstrate how to use SQL to select and display data from a database. The style of the image is informational and technical, with a focus on the SQL command and the resulting data output.'}],\n",
       "  'data_source': 'llava-recap-558K'},\n",
       " {'id': '000007231',\n",
       "  'image': '/mnt/lingjiejiang/multimodal_code/data/llava_onevision/LLaVA-ReCap-558K/blip558k_images/000007231.jpg',\n",
       "  'conversations': [{'from': 'human',\n",
       "    'value': '<image>\\nPlease generate detailed descriptions of the given image.'},\n",
       "   {'from': 'gpt',\n",
       "    'value': 'The image appears to be a slide from a presentation, focusing on the topic of working on the command line and specifically discussing the prompt. The slide has a light blue background with a title at the top that reads \"Working on the Command Line - the Prompt.\"\\n\\nOn the left side of the slide, there is a screenshot of a command line interface, which seems to be a Unix or Linux terminal. The terminal is displaying a prompt with the following text\\n\\n```\\neeadmac30~ kahokamps$\\n```\\n\\nThe text is color-coded, with the host name \"eeadmac30\" in blue, the tilde symbol \"~\" in green, the username \"kahokamps\" in red, and the dollar sign \"$\" in white.\\n\\nTo the right of the terminal screenshot, there is a diagram with arrows pointing from the host name to the username, and from the username to the dollar sign. The diagram labels the host name as \"host,\" the username as \"user,\" and the dollar sign as \"symbol.\"\\n\\nAt the bottom of the slide, there is a credit line that reads \"Trinity College Dublin, The University of Dublin.\"\\n\\nThe overall style of the image is educational and informative, designed to explain the components of a command line prompt.'}],\n",
       "  'data_source': 'llava-recap-558K'}]"
      ]
     },
     "execution_count": 5,
     "metadata": {},
     "output_type": "execute_result"
    }
   ],
   "source": [
    "all_items_with_code[:2]"
   ]
  },
  {
   "cell_type": "code",
   "execution_count": 6,
   "metadata": {},
   "outputs": [],
   "source": [
    "output_path = \"/mnt/lingjiejiang/multimodal_code/data/llava_code_data/llava_midstage_code.json\"\n",
    "with open(output_path, \"w\", encoding=\"utf-8\") as f:  \n",
    "    json.dump(all_items_with_code, f, ensure_ascii=False, indent=0) "
   ]
  },
  {
   "cell_type": "code",
   "execution_count": 1,
   "metadata": {},
   "outputs": [],
   "source": [
    "import json\n",
    "output_path = \"/mnt/lingjiejiang/multimodal_code/data/llava_code_data/llava_midstage_code.json\"\n",
    "with open(output_path, \"r\", encoding=\"utf-8\") as f:  \n",
    "    data = json.load(f)"
   ]
  },
  {
   "cell_type": "code",
   "execution_count": 5,
   "metadata": {},
   "outputs": [],
   "source": [
    "import json  \n",
    "  \n",
    "input_path = \"/mnt/lingjiejiang/multimodal_code/data/llava_code_data/llava_midstage_code.json\"  \n",
    "output_path = \"/mnt/lingjiejiang/multimodal_code/data/llava_code_data/llava_midstage_code_job.json\"\n",
    "\n",
    "with open(input_path, \"r\", encoding=\"utf-8\") as f:  \n",
    "    data = json.load(f)  \n",
    "  \n",
    "# Assuming data is a list of dictionaries  \n",
    "for item in data:  \n",
    "    if 'image' in item:  \n",
    "        # Convert 'image' to 'images' list  \n",
    "        item['images'] = [item.pop('image')]  \n",
    "  \n",
    "# If you want to save the modified data back to a file, uncomment the following lines:  \n",
    "with open(output_path, \"w\", encoding=\"utf-8\") as f:  \n",
    "    json.dump(data, f, ensure_ascii=False, indent=0)  \n",
    "  \n",
    "# Print the modified data to verify  \n",
    "# print(data)  "
   ]
  },
  {
   "cell_type": "code",
   "execution_count": 2,
   "metadata": {},
   "outputs": [
    {
     "data": {
      "text/plain": [
       "[{'id': '000004509',\n",
       "  'conversations': [{'from': 'human',\n",
       "    'value': '<image>\\nPlease generate detailed descriptions of the given image.'},\n",
       "   {'from': 'gpt',\n",
       "    'value': 'The image displays a screenshot of a computer interface showing a SQL (Structured Query Language) command line example. The SQL command is written in a text box at the top of the image, which reads\\n\\n```sql\\nSELECT Last_Name, First_Name\\nFROM Addresses, First_Name\\n```\\n\\nBelow the SQL command, there is a table with two columns, \"Last_Name\" and \"First_Name\". The table contains a list of names, with each row showing a combination of a last name and a first name. The names are presented in a structured format, with the last name on the left and the first name on the right.\\n\\nThe table includes names such as \"Adams\", \"Aki\", \"Alleyson\", \"Angeles\", \"Aragon\", \"Armstrong\", \"Beckel\", \"Black\", \"Brennan\", and others. Each name is separated by a line, indicating a new entry in the table.\\n\\nThe background of the image is a light blue color, and there is a watermark or logo in the top left corner, which appears to be a stylized letter \\'S\\' in a darker shade of blue.\\n\\nThe image is a digital representation, likely used for educational or instructional purposes to demonstrate how to use SQL to select and display data from a database. The style of the image is informational and technical, with a focus on the SQL command and the resulting data output.'}],\n",
       "  'data_source': 'llava-recap-558K',\n",
       "  'images': ['/mnt/lingjiejiang/multimodal_code/data/llava_onevision/LLaVA-ReCap-558K/blip558k_images/000004509.jpg']},\n",
       " {'id': '000007231',\n",
       "  'conversations': [{'from': 'human',\n",
       "    'value': '<image>\\nPlease generate detailed descriptions of the given image.'},\n",
       "   {'from': 'gpt',\n",
       "    'value': 'The image appears to be a slide from a presentation, focusing on the topic of working on the command line and specifically discussing the prompt. The slide has a light blue background with a title at the top that reads \"Working on the Command Line - the Prompt.\"\\n\\nOn the left side of the slide, there is a screenshot of a command line interface, which seems to be a Unix or Linux terminal. The terminal is displaying a prompt with the following text\\n\\n```\\neeadmac30~ kahokamps$\\n```\\n\\nThe text is color-coded, with the host name \"eeadmac30\" in blue, the tilde symbol \"~\" in green, the username \"kahokamps\" in red, and the dollar sign \"$\" in white.\\n\\nTo the right of the terminal screenshot, there is a diagram with arrows pointing from the host name to the username, and from the username to the dollar sign. The diagram labels the host name as \"host,\" the username as \"user,\" and the dollar sign as \"symbol.\"\\n\\nAt the bottom of the slide, there is a credit line that reads \"Trinity College Dublin, The University of Dublin.\"\\n\\nThe overall style of the image is educational and informative, designed to explain the components of a command line prompt.'}],\n",
       "  'data_source': 'llava-recap-558K',\n",
       "  'images': ['/mnt/lingjiejiang/multimodal_code/data/llava_onevision/LLaVA-ReCap-558K/blip558k_images/000007231.jpg']}]"
      ]
     },
     "execution_count": 2,
     "metadata": {},
     "output_type": "execute_result"
    }
   ],
   "source": [
    "import json  \n",
    "  \n",
    "input_path = \"/mnt/lingjiejiang/multimodal_code/data/llava_code_data/llava_midstage_code.json\"  \n",
    "output_path = \"/mnt/lingjiejiang/multimodal_code/data/llava_code_data/llava_midstage_code_job.json\"\n",
    "with open(output_path, \"r\", encoding=\"utf-8\") as f:  \n",
    "    data = json.load(f)  \n",
    "data[:2]"
   ]
  },
  {
   "cell_type": "code",
   "execution_count": 3,
   "metadata": {},
   "outputs": [],
   "source": [
    "for item in data:  \n",
    "    if 'conversations' in item:  \n",
    "        # Convert 'image' to 'images' list  \n",
    "        item['messages'] = [item.pop('conversations')]  "
   ]
  },
  {
   "cell_type": "code",
   "execution_count": 5,
   "metadata": {},
   "outputs": [],
   "source": [
    "with open(output_path, \"w\", encoding=\"utf-8\") as f:  \n",
    "    json.dump(data, f, ensure_ascii=False, indent=0)  "
   ]
  },
  {
   "cell_type": "code",
   "execution_count": 10,
   "metadata": {},
   "outputs": [],
   "source": [
    "import json  \n",
    "  \n",
    "# 输入和输出文件路径  \n",
    "input_path = \"/mnt/lingjiejiang/multimodal_code/data/llava_code_data/llava_midstage_code_job.json\"  \n",
    "output_path = \"/mnt/lingjiejiang/multimodal_code/data/llava_code_data/llava_midstage_code_job.json\"  \n",
    "  \n",
    "# 从输入文件中读取数据  \n",
    "with open(input_path, \"r\", encoding=\"utf-8\") as f:  \n",
    "    data = json.load(f)  \n",
    "  \n",
    "# 将 messages 转换为新格式的函数  \n",
    "def convert_messages_format(messages):  \n",
    "    new_format = []  \n",
    "    for message_pair in messages:  \n",
    "        for message in message_pair:  \n",
    "            new_format.append({  \n",
    "                \"content\": message['value'],  \n",
    "                \"role\": \"user\" if message['from'] == 'human' else \"assistant\"  \n",
    "            })  \n",
    "    return new_format  \n",
    "  \n",
    "# 遍历数据并转换 messages  \n",
    "for item in data:  \n",
    "    item['messages'] = convert_messages_format(item['messages'])  \n",
    "  \n",
    "# # 将转换后的数据保存到输出文件  \n",
    "with open(output_path, \"w\", encoding=\"utf-8\") as f:  \n",
    "    json.dump(data, f, ensure_ascii=False, indent=0)  \n",
    "  \n",
    "# print(f\"转换后的数据已保存到 {output_path}\")  "
   ]
  },
  {
   "cell_type": "code",
   "execution_count": 11,
   "metadata": {},
   "outputs": [
    {
     "data": {
      "text/plain": [
       "37088"
      ]
     },
     "execution_count": 11,
     "metadata": {},
     "output_type": "execute_result"
    }
   ],
   "source": [
    "len(data)"
   ]
  },
  {
   "cell_type": "code",
   "execution_count": 20,
   "metadata": {},
   "outputs": [],
   "source": [
    "filtered_data = []  \n",
    "for item in data:  \n",
    "    # 检查 images 字段是否为空或包含空字符串  \n",
    "    if 'images' not in item:  \n",
    "        item['images'] = [\"\"]  \n",
    "    # if 'images' in item and (not item['images'] or all(img == \"\" for img in item['images'])):  \n",
    "    #     continue  \n",
    "    # if \"images\" not in item:\n",
    "    #     continue\n",
    "    # 转换 messages 格式  \n",
    "    # item['messages'] = convert_messages_format(item['messages'])  \n",
    "    filtered_data.append(item)  \n",
    "  \n",
    "# # 将转换后的数据保存到输出文件  \n",
    "# with open(output_path, \"w\", encoding=\"utf-8\") as f:  \n",
    "#     json.dump(filtered_data, f, ensure_ascii=False, indent=2)  \n",
    "  \n",
    "# print(f\"转换后的数据已保存到 {output_path}\") "
   ]
  },
  {
   "cell_type": "code",
   "execution_count": 18,
   "metadata": {},
   "outputs": [
    {
     "data": {
      "text/plain": [
       "37088"
      ]
     },
     "execution_count": 18,
     "metadata": {},
     "output_type": "execute_result"
    }
   ],
   "source": [
    "len(filtered_data)"
   ]
  },
  {
   "cell_type": "code",
   "execution_count": 1,
   "metadata": {},
   "outputs": [],
   "source": [
    "import json  \n",
    "  \n",
    "# 输入和输出文件路径  \n",
    "input_path = \"/mnt/lingjiejiang/multimodal_code/data/llava_code_data/llava_midstage_code_job.json\"  \n",
    "# output_path = \"/mnt/lingjiejiang/multimodal_code/data/llava_code_data/llava_midstage_code_job.json\"  \n",
    "  \n",
    "# 从输入文件中读取数据  \n",
    "with open(input_path, \"r\", encoding=\"utf-8\") as f:  \n",
    "    code_data = json.load(f) "
   ]
  },
  {
   "cell_type": "code",
   "execution_count": 4,
   "metadata": {},
   "outputs": [
    {
     "data": {
      "text/plain": [
       "[{'id': '000004509',\n",
       "  'data_source': 'llava-recap-558K',\n",
       "  'images': ['/mnt/lingjiejiang/multimodal_code/data/llava_onevision/LLaVA-ReCap-558K/blip558k_images/000004509.jpg'],\n",
       "  'messages': [{'content': '<image>\\nPlease generate detailed descriptions of the given image.',\n",
       "    'role': 'user'},\n",
       "   {'content': 'The image displays a screenshot of a computer interface showing a SQL (Structured Query Language) command line example. The SQL command is written in a text box at the top of the image, which reads\\n\\n```sql\\nSELECT Last_Name, First_Name\\nFROM Addresses, First_Name\\n```\\n\\nBelow the SQL command, there is a table with two columns, \"Last_Name\" and \"First_Name\". The table contains a list of names, with each row showing a combination of a last name and a first name. The names are presented in a structured format, with the last name on the left and the first name on the right.\\n\\nThe table includes names such as \"Adams\", \"Aki\", \"Alleyson\", \"Angeles\", \"Aragon\", \"Armstrong\", \"Beckel\", \"Black\", \"Brennan\", and others. Each name is separated by a line, indicating a new entry in the table.\\n\\nThe background of the image is a light blue color, and there is a watermark or logo in the top left corner, which appears to be a stylized letter \\'S\\' in a darker shade of blue.\\n\\nThe image is a digital representation, likely used for educational or instructional purposes to demonstrate how to use SQL to select and display data from a database. The style of the image is informational and technical, with a focus on the SQL command and the resulting data output.',\n",
       "    'role': 'assistant'}]},\n",
       " {'id': '000007231',\n",
       "  'data_source': 'llava-recap-558K',\n",
       "  'images': ['/mnt/lingjiejiang/multimodal_code/data/llava_onevision/LLaVA-ReCap-558K/blip558k_images/000007231.jpg'],\n",
       "  'messages': [{'content': '<image>\\nPlease generate detailed descriptions of the given image.',\n",
       "    'role': 'user'},\n",
       "   {'content': 'The image appears to be a slide from a presentation, focusing on the topic of working on the command line and specifically discussing the prompt. The slide has a light blue background with a title at the top that reads \"Working on the Command Line - the Prompt.\"\\n\\nOn the left side of the slide, there is a screenshot of a command line interface, which seems to be a Unix or Linux terminal. The terminal is displaying a prompt with the following text\\n\\n```\\neeadmac30~ kahokamps$\\n```\\n\\nThe text is color-coded, with the host name \"eeadmac30\" in blue, the tilde symbol \"~\" in green, the username \"kahokamps\" in red, and the dollar sign \"$\" in white.\\n\\nTo the right of the terminal screenshot, there is a diagram with arrows pointing from the host name to the username, and from the username to the dollar sign. The diagram labels the host name as \"host,\" the username as \"user,\" and the dollar sign as \"symbol.\"\\n\\nAt the bottom of the slide, there is a credit line that reads \"Trinity College Dublin, The University of Dublin.\"\\n\\nThe overall style of the image is educational and informative, designed to explain the components of a command line prompt.',\n",
       "    'role': 'assistant'}]}]"
      ]
     },
     "execution_count": 4,
     "metadata": {},
     "output_type": "execute_result"
    }
   ],
   "source": [
    "code_data[:2]"
   ]
  },
  {
   "cell_type": "code",
   "execution_count": 6,
   "metadata": {},
   "outputs": [
    {
     "data": {
      "text/plain": [
       "546"
      ]
     },
     "execution_count": 6,
     "metadata": {},
     "output_type": "execute_result"
    }
   ],
   "source": [
    "# 过滤掉 images 列表为空或是空字符串的条目  \n",
    "filtered_data = [  \n",
    "    entry for entry in code_data  \n",
    "    if entry.get('images') and all(img.strip() for img in entry['images'])  \n",
    "]  \n",
    "len(filtered_data)"
   ]
  },
  {
   "cell_type": "code",
   "execution_count": 20,
   "metadata": {},
   "outputs": [
    {
     "data": {
      "text/plain": [
       "546"
      ]
     },
     "execution_count": 20,
     "metadata": {},
     "output_type": "execute_result"
    }
   ],
   "source": [
    "# 过滤掉 images 列表为空或是空字符串的条目  \n",
    "filtered_data = [  \n",
    "    entry for entry in code_data  \n",
    "    if entry.get('data_source') and entry['data_source'] != 'evol_instruct' \n",
    "]  \n",
    "len(filtered_data)"
   ]
  },
  {
   "cell_type": "code",
   "execution_count": 8,
   "metadata": {},
   "outputs": [
    {
     "data": {
      "text/plain": [
       "[{'id': 'HjB4l6C',\n",
       "  'data_source': 'evol_instruct',\n",
       "  'messages': [{'content': 'Create an Excel macro that automatically detects any changes made to a specific column in a worksheet. If the changes are within a certain range of values in that column, execute a function that copies the row and pastes it into a new worksheet. The function should only copy rows that contain values that match a certain criteria specified in a separate sheet. The macro should be able to handle multiple modifications at once and should include error handling to prevent any unexpected behavior.',\n",
       "    'role': 'user'},\n",
       "   {'content': 'Here is one possible solution:\\n\\n1. Start by opening your Excel workbook and navigating to the worksheet containing the column you want to monitor.\\n\\n2. Press Alt + F11 to open the Visual Basic Editor.\\n\\n3. In the Project Explorer pane on the left, right-click on your workbook name and select Insert > Module. This will create a new module where you can write your macro code.\\n\\n4. Copy and paste the following code into the module:\\n\\n```\\nOption Explicit\\n\\nPrivate Sub Worksheet_Change(ByVal Target As Range)\\n    \\'This macro detects changes made to a specific column and copies the row to a new worksheet if it meets certain criteria\\n    \\n    Dim ws As Worksheet\\n    Set ws = Sheets(\"Sheet1\") \\'Change this to the name of your worksheet\\n    \\n    Dim newWs As Worksheet\\n    Set newWs = Sheets.Add(After:=Sheets(Sheets.Count)) \\'Create a new worksheet to paste the copied rows\\n    \\n    Dim criteriaWs As Worksheet\\n    Set criteriaWs = Sheets(\"Criteria\") \\'Change this to the name of your criteria sheet\\n    \\n    Dim i As Long\\n    For i = Target.Rows.Count To 1 Step -1 \\'Loop through the changed rows in reverse order to avoid issues with shifting rows\\n        If Target.Cells(i, 1).Value >= 10 And Target.Cells(i, 1).Value <= 20 Then \\'Change this to your desired range of values\\n            Dim matchRow As Range\\n            Set matchRow = criteriaWs.Range(\"A1:A\" & criteriaWs.Cells(criteriaWs.Rows.Count, \"A\").End(xlUp).Row).Find(Target.Cells(i, 1).Value, LookIn:=xlValues, LookAt:=xlWhole)\\n            \\'Find a matching value in the criteria sheet\\n            \\n            If Not matchRow Is Nothing Then \\'If a match is found, copy the row to the new worksheet\\n                ws.Rows(Target.Cells(i, 1).Row).Copy newWs.Range(\"A\" & newWs.Cells(newWs.Rows.Count, \"A\").End(xlUp).Row + 1)\\n            End If\\n        End If\\n    Next i\\nEnd Sub\\n```\\n\\n5. Modify the code as follows:\\n\\n- Change the value of `ws` to the name of your worksheet that you want to monitor for changes.\\n- Change the value of `criteriaWs` to the name of your sheet that contains the criteria for matching rows.\\n- Change the range `Target.Cells(i, 1).Value >= 10 And Target.Cells(i, 1).Value <= 20` to the range of values in your column that you want to monitor for changes.\\n- Modify the line `Set matchRow = criteriaWs.Range(\"A1:A\" & criteriaWs.Cells(criteriaWs.Rows.Count, \"A\").End(xlUp).Row).Find(Target.Cells(i, 1).Value, LookIn:=xlValues, LookAt:=xlWhole)` to match the criteria you want to use to match rows. You may need to change the range (`A1:A`) or the lookup value (`Target.Cells(i, 1).Value`) depending on your criteria.\\n\\n6. Save your workbook and close the Visual Basic Editor.\\n\\n7. Test your macro by making changes to the monitored column that fall within the specified range of values and match the criteria in your criteria sheet. The macro should automatically copy the matching rows to the new worksheet.\\n\\nNote: This macro assumes that the changes made to the monitored column will only be made one cell at a time. If you need to handle changes made to multiple cells at once, you may need to modify the code to loop through each cell in the `Target` range separately. Also, be sure to add error handling to your macro to prevent unexpected behavior in case of errors or invalid input.',\n",
       "    'role': 'assistant'}]},\n",
       " {'id': 'zQCptr6',\n",
       "  'data_source': 'evol_instruct',\n",
       "  'messages': [{'content': 'Please develop a Python program that generates a list of prime numbers up to a specific upper limit value provided by the user by applying the Sieve of Eratosthenes algorithm, while ensuring that the program also optimizes the memory usage and runs in a timely manner even when dealing with extremely large datasets. Additionally, the program should have the ability to identify and exclude composite numbers from the list before outputting the final prime numbers.',\n",
       "    'role': 'user'},\n",
       "   {'content': 'Here is a Python program that uses the Sieve of Eratosthenes algorithm to generate a list of prime numbers up to a specific upper limit value provided by the user. It also optimizes the memory usage and runs in a timely manner even when dealing with extremely large datasets. Additionally, it identifies and excludes composite numbers from the list before outputting the final prime numbers:\\r\\n\\r\\n```python\\r\\nimport math\\r\\n\\r\\ndef eratosthenes_sieve(limit):\\r\\n    primes = [True] * (limit + 1)\\r\\n    primes[0] = primes[1] = False\\r\\n    for i in range(2, int(math.sqrt(limit)) + 1):\\r\\n        if primes[i]:\\r\\n            for j in range(i * i, limit + 1, i):\\r\\n                primes[j] = False\\r\\n    return [i for i in range(2, limit + 1) if primes[i]]\\r\\n\\r\\ndef main():\\r\\n    limit = int(input(\"Enter the upper limit value: \"))\\r\\n    primes = eratosthenes_sieve(limit)\\r\\n    print(\"Prime numbers up to\", limit, \"are:\", primes)\\r\\n\\r\\nif __name__ == \\'__main__\\':\\r\\n    main()\\r\\n```\\r\\n\\r\\nThe `eratosthenes_sieve` function takes an integer `limit` as input and returns a list of all the prime numbers up to `limit`. It implements the Sieve of Eratosthenes algorithm, which works as follows:\\r\\n\\r\\n1. Create a boolean array `primes` of size `limit+1` and initialize all elements to `True`.\\r\\n2. Set `primes[0] = primes[1] = False` since 0 and 1 are not prime numbers.\\r\\n3. Loop over all integers `i` from 2 to the square root of `limit`. If `primes[i]` is `True`, then it is a prime number, so mark all multiples of `i` (starting from `i*i`) as composite by setting `primes[j] = False` for `j` in range `i*i` to `limit` in increments of `i`.\\r\\n4. Return a list of all the prime numbers by filtering the `primes` array to keep only the elements with a value of `True`. The resulting list contains all the prime numbers up to `limit`.\\r\\n\\r\\nThe `main` function prompts the user to enter the upper limit value, calls the `eratosthenes_sieve` function to generate the list of prime numbers up to the limit, and then outputs the list to the console.\\r\\n\\r\\nThis program optimizes memory usage by using a boolean array to represent the list of numbers, rather than a list of integers. This reduces the memory usage by a factor of 8 on most systems (since boolean values take up 1 byte each, while integers take up 8 bytes each).\\r\\n\\r\\nAdditionally, the program runs in a timely manner even when dealing with extremely large datasets by using the optimized Sieve of Eratosthenes algorithm, which has a time complexity of O(n log log n) (where n is the number of integers up to the limit). This is significantly faster than other algorithms that generate all prime numbers up to a limit, such as the trial division algorithm (which has a time complexity of O(n^2)).',\n",
       "    'role': 'assistant'}]}]"
      ]
     },
     "execution_count": 8,
     "metadata": {},
     "output_type": "execute_result"
    }
   ],
   "source": [
    "# 过滤出 images 列表为空或只包含空字符串的条目  \n",
    "empty_images_data = [  \n",
    "    entry for entry in code_data  \n",
    "    if not entry.get('images') or all(not img.strip() for img in entry['images'])  \n",
    "]  \n",
    "empty_images_data[:2]"
   ]
  },
  {
   "cell_type": "code",
   "execution_count": 21,
   "metadata": {},
   "outputs": [],
   "source": [
    "output_path = \"/mnt/lingjiejiang/multimodal_code/data/llava_code_data/llava_midstage_code_debug_job.json\"  \n",
    "# # 将转换后的数据保存到输出文件  \n",
    "with open(output_path, \"w\", encoding=\"utf-8\") as f:  \n",
    "    json.dump(filtered_data, f, ensure_ascii=False, indent=0)    "
   ]
  },
  {
   "cell_type": "code",
   "execution_count": 9,
   "metadata": {},
   "outputs": [
    {
     "name": "stderr",
     "output_type": "stream",
     "text": [
      "Processing JSON files: 100%|██████████| 72/72 [01:30<00:00,  1.26s/it]\n"
     ]
    }
   ],
   "source": [
    "import os  \n",
    "import re  \n",
    "import json  \n",
    "from tqdm import tqdm  \n",
    "  \n",
    "# 定义正则表达式模式  \n",
    "code_block_pattern = re.compile(r'```[\\s\\S]*?```')  \n",
    "python_keyword_line_pattern = re.compile(  \n",
    "    r'(?:^|\\n)\\s*(?:from\\s+\\S+\\s+import\\s+\\S+|import\\s+\\S+|def\\s+\\S+\\s*\\(.*\\)\\s*:|class\\s+\\S+\\s*\\(?.*\\)?:|if\\s+.*?:|elif\\s+.*?:|else\\s*:|for\\s+.*?:|while\\s+.*?:|try\\s*:|except\\s+.*?:)',  \n",
    "    flags=re.MULTILINE  \n",
    ")  \n",
    "assignment_pattern = re.compile(r'(?:^|\\n)\\s*\\w+\\s*=\\s*[^=]+')  \n",
    "colon_pattern = re.compile(r'(?:^|\\n)\\s*(?:if|elif|else|for|while|try|except|def|class)\\b[^:\\n]*:')  \n",
    "  \n",
    "patterns = [  \n",
    "    code_block_pattern,  \n",
    "    python_keyword_line_pattern,  \n",
    "    assignment_pattern,  \n",
    "    colon_pattern  \n",
    "]   \n",
    "  \n",
    "# 根目录路径  \n",
    "base_path = \"/mnt/lingjiejiang/multimodal_code/data/llava_onevision/LLaVA-Stage2-Si\"  \n",
    "  \n",
    "# 获取根目录下所有 JSON 文件  \n",
    "json_files = [f for f in os.listdir(base_path) if f.endswith('.json')]  \n",
    "  \n",
    "# 用于存储所有包含代码的 items  \n",
    "all_items_with_code = []  \n",
    "  \n",
    "# 遍历每个 JSON 文件  \n",
    "for json_file in tqdm(json_files, desc=\"Processing JSON files\"):  \n",
    "    json_file_path = os.path.join(base_path, json_file)  \n",
    "    if not os.path.exists(json_file_path):  \n",
    "        print(f\"JSON 文件不存在: {json_file_path}\")  \n",
    "        continue  \n",
    "  \n",
    "    try:  \n",
    "        # 读取 JSON 文件  \n",
    "        with open(json_file_path, \"r\", encoding=\"utf-8\") as f:  \n",
    "            data = json.load(f)  \n",
    "    except Exception as e:  \n",
    "        print(f\"读取文件时出错: {e}\")  \n",
    "        continue  \n",
    "  \n",
    "    # 检测当前 JSON 文件中的代码  \n",
    "    items_containing_code = []  \n",
    "    for item in data:  \n",
    "        if 'conversations' not in item:  \n",
    "            continue  \n",
    "  \n",
    "        code_found = False  \n",
    "        for conv in item['conversations']:  \n",
    "            text = conv.get('value', '')  \n",
    "            for pattern in patterns:  \n",
    "                if pattern.findall(text):  \n",
    "                    code_found = True  \n",
    "                    break  \n",
    "            if code_found:  \n",
    "                break  \n",
    "  \n",
    "        if code_found:  \n",
    "            items_containing_code.append(item)  \n",
    "  \n",
    "    # 将当前文件的结果添加到总结果中  \n",
    "    all_items_with_code.extend(items_containing_code)  \n",
    "  \n",
    "# # 将所有包含代码的 items 写入一个新文件  \n",
    "# output_path = os.path.join(base_path, \"all_items_with_code.json\")  \n",
    "# try:  \n",
    "#     with open(output_path, \"w\", encoding=\"utf-8\") as f:  \n",
    "#         json.dump(all_items_with_code, f, ensure_ascii=False, indent=2)  \n",
    "#     print(f\"匹配到含“代码”的 item 总数量: {len(all_items_with_code)}\")  \n",
    "#     print(f\"结果已写入: {output_path}\")  \n",
    "# except Exception as e:  \n",
    "#     print(f\"写入文件时出错: {e}\")  "
   ]
  },
  {
   "cell_type": "code",
   "execution_count": 10,
   "metadata": {},
   "outputs": [
    {
     "data": {
      "text/plain": [
       "10667"
      ]
     },
     "execution_count": 10,
     "metadata": {},
     "output_type": "execute_result"
    }
   ],
   "source": [
    "len(all_items_with_code)"
   ]
  },
  {
   "cell_type": "code",
   "execution_count": 11,
   "metadata": {},
   "outputs": [
    {
     "data": {
      "text/plain": [
       "[{'id': '1521.png',\n",
       "  'image': 'ai2d(internvl)_images/1521.png.jpg',\n",
       "  'conversations': [{'from': 'human',\n",
       "    'value': '<image>\\nWhat does the letter B represent?n=2\\nn=3\\nn=1\\nn=0\\nAnswer with the given options directly.'},\n",
       "   {'from': 'gpt', 'value': 'n=2'}],\n",
       "  'data_source': 'ai2d(internvl)'},\n",
       " {'id': '1521.png',\n",
       "  'image': 'ai2d(internvl)_images/1521.png.jpg',\n",
       "  'conversations': [{'from': 'human',\n",
       "    'value': '<image>\\nWhat does the letter C represent?n=2\\nn=0\\nn=3\\nn=1\\nAnswer with the given options directly.'},\n",
       "   {'from': 'gpt', 'value': 'n=1'}],\n",
       "  'data_source': 'ai2d(internvl)'}]"
      ]
     },
     "execution_count": 11,
     "metadata": {},
     "output_type": "execute_result"
    }
   ],
   "source": [
    "all_items_with_code[:2]"
   ]
  },
  {
   "cell_type": "code",
   "execution_count": 17,
   "metadata": {},
   "outputs": [
    {
     "data": {
      "text/plain": [
       "10667"
      ]
     },
     "execution_count": 17,
     "metadata": {},
     "output_type": "execute_result"
    }
   ],
   "source": [
    "# 过滤掉 images 列表为空或是空字符串的条目  \n",
    "filtered_data = [  \n",
    "    entry for entry in all_items_with_code  \n",
    "    if entry.get('image') and entry['image'] != \"\"\n",
    "]  \n",
    "len(filtered_data)"
   ]
  }
 ],
 "metadata": {
  "kernelspec": {
   "display_name": "llama",
   "language": "python",
   "name": "python3"
  },
  "language_info": {
   "codemirror_mode": {
    "name": "ipython",
    "version": 3
   },
   "file_extension": ".py",
   "mimetype": "text/x-python",
   "name": "python",
   "nbconvert_exporter": "python",
   "pygments_lexer": "ipython3",
   "version": "3.10.16"
  }
 },
 "nbformat": 4,
 "nbformat_minor": 2
}
