{
 "cells": [
  {
   "cell_type": "code",
   "execution_count": 19,
   "metadata": {},
   "outputs": [],
   "source": [
    "import os  \n",
    "import json  \n",
    "  \n",
    "# 指定目录路径  \n",
    "directory_path = '/mnt/lingjiejiang/multimodal_code/data/llava_onevision/LLaVA-Stage2-Si'  \n",
    "  \n",
    "# 列出目录中的所有 JSON 文件  \n",
    "json_files_in_directory = {filename for filename in os.listdir(directory_path) if filename.endswith('.json')}  \n",
    "  \n",
    "# 加载 exist_files_map.json 文件  \n",
    "exist_files_map_path = 'exist_files_map.json'  \n",
    "with open(exist_files_map_path, 'r') as file:  \n",
    "    exist_files_map = json.load(file)  \n",
    "  \n",
    "# 从 exist_files_map 中提取存在的文件名  \n",
    "files_in_exist_map = set(exist_files_map.values())  \n",
    "  \n",
    "# 找出目录中的 JSON 文件中哪些不在 exist_files_map 中  \n",
    "nonexistent_files = {key: value for key, value in exist_files_map.items() if value not in json_files_in_directory}  \n",
    "  \n",
    "# 将不存在的文件记录下来并保存到新的 JSON 文件中  \n",
    "output_path = 'nonexistent_files.json'  \n",
    "with open(output_path, 'w') as output_file:  \n",
    "    json.dump(nonexistent_files, output_file, indent=4)  \n",
    "  \n",
    "# print(f\"Nonexistent files have been saved to {output_path}.\")  "
   ]
  },
  {
   "cell_type": "code",
   "execution_count": 20,
   "metadata": {},
   "outputs": [
    {
     "data": {
      "text/plain": [
       "{'mavis_math_rule_geo': 'mavis_math_rule_geo_100000.json',\n",
       " 'chrome_writting': 'chrome_writting_train_8835.json',\n",
       " 'k12_printing': 'k12_printing_train_256646.json',\n",
       " 'iiit5k': 'iiit5k_annotations_2000.json',\n",
       " 'hme100k': 'hme100k_train_clean_74502.json',\n",
       " 'ai2d(gpt4v)': 'ai2d_azuregpt_detailed_understanding_4874.json',\n",
       " 'infographic_vqa': 'infographic_vqa_4404.json',\n",
       " 'infographic(gpt4v)': 'infographic_azuregpt4v_1992.json',\n",
       " 'lrv_chart': 'lrv_chart_1787.json',\n",
       " 'lrv_normal(filtered)': 'lrv_normal_gpt4v_filtered_10500.json',\n",
       " 'scienceqa(nona_context)': 'scienceqa_nona_context_19218.json',\n",
       " 'allava_instruct_vflan4v': 'allava_instruct_vflan4v_20000.json',\n",
       " 'allava_instruct_laion4v': 'allava_instruct_laion4v_50000.json',\n",
       " 'textocr(gpt4v)': 'textocr_gpt4v_train_converted_25114.json',\n",
       " 'ai2d(internvl)': 'ai2d_train_internvl_single_12413.json',\n",
       " 'ureader_ie': 'ureader_ie_sft.json',\n",
       " 'vision_flan(filtered)': 'vision_flan_filtered_186070.json',\n",
       " 'mathqa': 'mathqa_29837.json',\n",
       " 'geo3k': 'geo3k_2101.json',\n",
       " 'geo170k(qa)': 'geo170k_qa_converted_67833.json',\n",
       " 'geo170k(align)': 'geo170k_align_converted_60252.json',\n",
       " 'sharegpt4v(coco)': 'sharegpt4v-coco-50k.json',\n",
       " 'sharegpt4v(knowledge)': 'sharegpt4v-knowledge-2k.json',\n",
       " 'sharegpt4v(llava)': 'sharegpt4v-llava-30k.json',\n",
       " 'sharegpt4v(sam)': 'sharegpt4v-sam-20k.json',\n",
       " 'CLEVR-Math(MathV360K)': 'MathV360K_CLEVR-Math_5290.json',\n",
       " 'FigureQA(MathV360K)': 'MathV360K_FigureQA_17597.json',\n",
       " 'Geometry3K(MathV360K)': 'MathV360K_Geometry3K_9734.json',\n",
       " 'magpie_pro(qwen2_72b_st)': 'magpie_pro_qwen2_72b_st_300000_sp_token_fltd_299992.json',\n",
       " 'magpie_pro(l3_80b_st)': 'magpie_pro_l3_80b_st_300000.json',\n",
       " 'magpie_pro(l3_80b_mt)': 'magpie_pro_l3_80b_mt_300000_sp_token_fltd_299998.json',\n",
       " 'cambrian(filtered_gpt4vo)': 'cambrian_filtered_gpt4vo_sp_token_fltd_max10k.json',\n",
       " 'sharegpt4o': 'sharegpt4o_dataset.jsonl',\n",
       " 'ai2d(cauldron,llava_format)': 'ai2d_llava_format_2434.json',\n",
       " 'aokvqa(cauldron,llava_format)': 'aokvqa_16539_llava_format.json'}"
      ]
     },
     "execution_count": 20,
     "metadata": {},
     "output_type": "execute_result"
    }
   ],
   "source": [
    "nonexistent_files"
   ]
  },
  {
   "cell_type": "code",
   "execution_count": 11,
   "metadata": {},
   "outputs": [],
   "source": [
    "# ureader_kg_processed.json\n",
    "import json\n",
    "with open('/mnt/lingjiejiang/multimodal_code/data/llava_onevision/LLaVA-OneVision-Data/ureader_kg/ureader_kg_processed.json', 'r') as file:\n",
    "    ureader = json.load(file)\n",
    "for item in ureader:\n",
    "    item[\"image\"] = f\"/mnt/lingjiejiang/multimodal_code/data/llava_onevision/LLaVA-OneVision-Data/ureader_kg/{item['image']}\"\n",
    "# ureader[:2]\n",
    "output_path = \"/mnt/lingjiejiang/multimodal_code/data/llava_onevision/LLaVA-Stage2-Si\"\n",
    "with open(f\"{output_path}/ureader_kg_sft.json\", 'w') as file:\n",
    "    json.dump(ureader, file, indent=0)"
   ]
  },
  {
   "cell_type": "code",
   "execution_count": 12,
   "metadata": {},
   "outputs": [],
   "source": [
    "with open(f\"{output_path}/ureader_kg_sft.json\", 'r') as file:\n",
    "    ureader = json.load(file)"
   ]
  },
  {
   "cell_type": "code",
   "execution_count": 18,
   "metadata": {},
   "outputs": [],
   "source": [
    "# ureader_kg_processed.json\n",
    "import json\n",
    "with open('/mnt/lingjiejiang/multimodal_code/data/llava_onevision/LLaVA-OneVision-Data/ureader_qa/ureader_qa_processed.json', 'r') as file:\n",
    "    ureader = json.load(file)\n",
    "for item in ureader:\n",
    "    item[\"image\"] = f\"/mnt/lingjiejiang/multimodal_code/data/llava_onevision/LLaVA-OneVision-Data/ureader_qa/{item['image']}\"\n",
    "# ureader[:2]\n",
    "output_path = \"/mnt/lingjiejiang/multimodal_code/data/llava_onevision/LLaVA-Stage2-Si\"\n",
    "with open(f\"{output_path}/ureader_qa_sft.json\", 'w') as file:\n",
    "    json.dump(ureader, file, indent=0)"
   ]
  },
  {
   "cell_type": "code",
   "execution_count": 17,
   "metadata": {},
   "outputs": [
    {
     "data": {
      "text/plain": [
       "[{'id': '00006834003065',\n",
       "  'conversations': [{'from': 'human',\n",
       "    'value': '<image>\\nWhich country has longest bar?\\nAnswer the question using a single word or phrase.'},\n",
       "   {'from': 'gpt', 'value': 'Nigeria'}],\n",
       "  'data_source': 'ureader_qa',\n",
       "  'image': '/mnt/lingjiejiang/multimodal_code/data/llava_onevision/LLaVA-OneVision-Data/ureader_qa/ureader-instruction-1.0/ChartQA/train/png/00006834003065.png'},\n",
       " {'id': '00006834003065',\n",
       "  'conversations': [{'from': 'human',\n",
       "    'value': '<image>\\nDoes the difference of largest two bar is exactly double the value of  2nd smallest bar?\\nAnswer the question using a single word or phrase.'},\n",
       "   {'from': 'gpt', 'value': 'No'}],\n",
       "  'data_source': 'ureader_qa',\n",
       "  'image': '/mnt/lingjiejiang/multimodal_code/data/llava_onevision/LLaVA-OneVision-Data/ureader_qa/ureader-instruction-1.0/ChartQA/train/png/00006834003065.png'}]"
      ]
     },
     "execution_count": 17,
     "metadata": {},
     "output_type": "execute_result"
    }
   ],
   "source": [
    "ureader[:2]"
   ]
  }
 ],
 "metadata": {
  "kernelspec": {
   "display_name": "llama",
   "language": "python",
   "name": "python3"
  },
  "language_info": {
   "codemirror_mode": {
    "name": "ipython",
    "version": 3
   },
   "file_extension": ".py",
   "mimetype": "text/x-python",
   "name": "python",
   "nbconvert_exporter": "python",
   "pygments_lexer": "ipython3",
   "version": "3.10.16"
  }
 },
 "nbformat": 4,
 "nbformat_minor": 2
}
